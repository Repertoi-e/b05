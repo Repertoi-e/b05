{
 "cells": [
  {
   "cell_type": "code",
   "execution_count": null,
   "metadata": {},
   "outputs": [],
   "source": [
    "import numpy as np \n",
    "import pandas as pd\n",
    "import matplotlib.pyplot as plt"
   ]
  },
  {
   "cell_type": "code",
   "execution_count": 21,
   "metadata": {},
   "outputs": [],
   "source": [
    "sheets_url = \"https://docs.google.com/spreadsheets/d/1HbuwOGN-pKfY95QqNByAydbRJVicJ3oztc3d0fufQT8/export?format=csv&gid=0#gid=0\""
   ]
  },
  {
   "cell_type": "code",
   "execution_count": 22,
   "metadata": {},
   "outputs": [],
   "source": [
    "df = pd.read_csv(sheets_url)"
   ]
  },
  {
   "cell_type": "code",
   "execution_count": 23,
   "metadata": {},
   "outputs": [
    {
     "data": {
      "text/html": [
       "<div>\n",
       "<style scoped>\n",
       "    .dataframe tbody tr th:only-of-type {\n",
       "        vertical-align: middle;\n",
       "    }\n",
       "\n",
       "    .dataframe tbody tr th {\n",
       "        vertical-align: top;\n",
       "    }\n",
       "\n",
       "    .dataframe thead th {\n",
       "        text-align: right;\n",
       "    }\n",
       "</style>\n",
       "<table border=\"1\" class=\"dataframe\">\n",
       "  <thead>\n",
       "    <tr style=\"text-align: right;\">\n",
       "      <th></th>\n",
       "      <th>Manufacturer</th>\n",
       "      <th>Aircraft name</th>\n",
       "      <th>Maximum payload [kg]</th>\n",
       "      <th>Range [km]</th>\n",
       "      <th>Maximum take-off mass [kg]</th>\n",
       "      <th>Empty mass (or Operating Empty Mass) [kg]</th>\n",
       "      <th>Wing Area [m2]</th>\n",
       "      <th>Wing span [m]</th>\n",
       "      <th>Aspect ratio</th>\n",
       "      <th>Mach</th>\n",
       "      <th>Taper ration</th>\n",
       "      <th>Control surface area</th>\n",
       "      <th>Total Take-off thrust [kN]</th>\n",
       "      <th>Take off distance</th>\n",
       "      <th>Landing distance</th>\n",
       "      <th>Reference</th>\n",
       "    </tr>\n",
       "  </thead>\n",
       "  <tbody>\n",
       "    <tr>\n",
       "      <th>0</th>\n",
       "      <td>Airbus</td>\n",
       "      <td>A350-800 (3-class)</td>\n",
       "      <td>53300.0</td>\n",
       "      <td>15372.0</td>\n",
       "      <td>265000.0</td>\n",
       "      <td>142400.0</td>\n",
       "      <td>443.0</td>\n",
       "      <td>64.75</td>\n",
       "      <td>9.46</td>\n",
       "      <td>NaN</td>\n",
       "      <td>NaN</td>\n",
       "      <td>NaN</td>\n",
       "      <td>862.954</td>\n",
       "      <td>NaN</td>\n",
       "      <td>NaN</td>\n",
       "      <td>NaN</td>\n",
       "    </tr>\n",
       "    <tr>\n",
       "      <th>1</th>\n",
       "      <td>Boeing</td>\n",
       "      <td>B777-200LR (3-class)</td>\n",
       "      <td>50850.0</td>\n",
       "      <td>15843.0</td>\n",
       "      <td>347800.0</td>\n",
       "      <td>156030.0</td>\n",
       "      <td>437.0</td>\n",
       "      <td>64.80</td>\n",
       "      <td>9.61</td>\n",
       "      <td>NaN</td>\n",
       "      <td>NaN</td>\n",
       "      <td>NaN</td>\n",
       "      <td>978.000</td>\n",
       "      <td>NaN</td>\n",
       "      <td>NaN</td>\n",
       "      <td>NaN</td>\n",
       "    </tr>\n",
       "    <tr>\n",
       "      <th>2</th>\n",
       "      <td>Boeing</td>\n",
       "      <td>787-10 (2-class)</td>\n",
       "      <td>57200.0</td>\n",
       "      <td>11900.0</td>\n",
       "      <td>254000.0</td>\n",
       "      <td>135600.0</td>\n",
       "      <td>361.0</td>\n",
       "      <td>60.10</td>\n",
       "      <td>10.00</td>\n",
       "      <td>NaN</td>\n",
       "      <td>NaN</td>\n",
       "      <td>NaN</td>\n",
       "      <td>693.922</td>\n",
       "      <td>3000.0</td>\n",
       "      <td>1926.0</td>\n",
       "      <td>https://www.airlines-inform.com/commercial-air...</td>\n",
       "    </tr>\n",
       "    <tr>\n",
       "      <th>3</th>\n",
       "      <td>Airbus</td>\n",
       "      <td>A340-300</td>\n",
       "      <td>50900.0</td>\n",
       "      <td>13500.0</td>\n",
       "      <td>275000.0</td>\n",
       "      <td>130900.0</td>\n",
       "      <td>361.6</td>\n",
       "      <td>60.30</td>\n",
       "      <td>10.06</td>\n",
       "      <td>0.72</td>\n",
       "      <td>NaN</td>\n",
       "      <td>NaN</td>\n",
       "      <td>605.000</td>\n",
       "      <td>NaN</td>\n",
       "      <td>NaN</td>\n",
       "      <td>NaN</td>\n",
       "    </tr>\n",
       "    <tr>\n",
       "      <th>4</th>\n",
       "      <td>McDonnell Douglas</td>\n",
       "      <td>MD-11</td>\n",
       "      <td>52600.0</td>\n",
       "      <td>12400.0</td>\n",
       "      <td>273000.0</td>\n",
       "      <td>128800.0</td>\n",
       "      <td>339.0</td>\n",
       "      <td>52.00</td>\n",
       "      <td>7.97</td>\n",
       "      <td>0.83</td>\n",
       "      <td>NaN</td>\n",
       "      <td>NaN</td>\n",
       "      <td>840.000</td>\n",
       "      <td>3139.0</td>\n",
       "      <td>2118.0</td>\n",
       "      <td>[5] &amp; [5.1]</td>\n",
       "    </tr>\n",
       "    <tr>\n",
       "      <th>5</th>\n",
       "      <td>Airbus</td>\n",
       "      <td>A330</td>\n",
       "      <td>NaN</td>\n",
       "      <td>NaN</td>\n",
       "      <td>NaN</td>\n",
       "      <td>NaN</td>\n",
       "      <td>NaN</td>\n",
       "      <td>NaN</td>\n",
       "      <td>NaN</td>\n",
       "      <td>NaN</td>\n",
       "      <td>NaN</td>\n",
       "      <td>NaN</td>\n",
       "      <td>NaN</td>\n",
       "      <td>NaN</td>\n",
       "      <td>NaN</td>\n",
       "      <td>NaN</td>\n",
       "    </tr>\n",
       "    <tr>\n",
       "      <th>6</th>\n",
       "      <td>Boeing</td>\n",
       "      <td>B767- 400ER</td>\n",
       "      <td>NaN</td>\n",
       "      <td>NaN</td>\n",
       "      <td>NaN</td>\n",
       "      <td>NaN</td>\n",
       "      <td>NaN</td>\n",
       "      <td>NaN</td>\n",
       "      <td>NaN</td>\n",
       "      <td>NaN</td>\n",
       "      <td>NaN</td>\n",
       "      <td>NaN</td>\n",
       "      <td>NaN</td>\n",
       "      <td>NaN</td>\n",
       "      <td>NaN</td>\n",
       "      <td>NaN</td>\n",
       "    </tr>\n",
       "    <tr>\n",
       "      <th>7</th>\n",
       "      <td>Ilyushin</td>\n",
       "      <td>IL-96-300</td>\n",
       "      <td>40000.0</td>\n",
       "      <td>10000.0</td>\n",
       "      <td>250000.0</td>\n",
       "      <td>NaN</td>\n",
       "      <td>NaN</td>\n",
       "      <td>NaN</td>\n",
       "      <td>NaN</td>\n",
       "      <td>NaN</td>\n",
       "      <td>NaN</td>\n",
       "      <td>NaN</td>\n",
       "      <td>NaN</td>\n",
       "      <td>NaN</td>\n",
       "      <td>NaN</td>\n",
       "      <td>NaN</td>\n",
       "    </tr>\n",
       "  </tbody>\n",
       "</table>\n",
       "</div>"
      ],
      "text/plain": [
       "        Manufacturer         Aircraft name  Maximum payload [kg]  Range [km]  \\\n",
       "0             Airbus    A350-800 (3-class)               53300.0     15372.0   \n",
       "1             Boeing  B777-200LR (3-class)               50850.0     15843.0   \n",
       "2             Boeing      787-10 (2-class)               57200.0     11900.0   \n",
       "3             Airbus              A340-300               50900.0     13500.0   \n",
       "4  McDonnell Douglas                 MD-11               52600.0     12400.0   \n",
       "5             Airbus                  A330                   NaN         NaN   \n",
       "6             Boeing           B767- 400ER                   NaN         NaN   \n",
       "7           Ilyushin             IL-96-300               40000.0     10000.0   \n",
       "\n",
       "   Maximum take-off mass [kg]  Empty mass (or Operating Empty Mass) [kg]  \\\n",
       "0                    265000.0                                   142400.0   \n",
       "1                    347800.0                                   156030.0   \n",
       "2                    254000.0                                   135600.0   \n",
       "3                    275000.0                                   130900.0   \n",
       "4                    273000.0                                   128800.0   \n",
       "5                         NaN                                        NaN   \n",
       "6                         NaN                                        NaN   \n",
       "7                    250000.0                                        NaN   \n",
       "\n",
       "   Wing Area [m2]  Wing span [m]  Aspect ratio  Mach  Taper ration  \\\n",
       "0           443.0          64.75          9.46   NaN           NaN   \n",
       "1           437.0          64.80          9.61   NaN           NaN   \n",
       "2           361.0          60.10         10.00   NaN           NaN   \n",
       "3           361.6          60.30         10.06  0.72           NaN   \n",
       "4           339.0          52.00          7.97  0.83           NaN   \n",
       "5             NaN            NaN           NaN   NaN           NaN   \n",
       "6             NaN            NaN           NaN   NaN           NaN   \n",
       "7             NaN            NaN           NaN   NaN           NaN   \n",
       "\n",
       "   Control surface area  Total Take-off thrust [kN]  Take off distance  \\\n",
       "0                   NaN                     862.954                NaN   \n",
       "1                   NaN                     978.000                NaN   \n",
       "2                   NaN                     693.922             3000.0   \n",
       "3                   NaN                     605.000                NaN   \n",
       "4                   NaN                     840.000             3139.0   \n",
       "5                   NaN                         NaN                NaN   \n",
       "6                   NaN                         NaN                NaN   \n",
       "7                   NaN                         NaN                NaN   \n",
       "\n",
       "   Landing distance                                          Reference  \n",
       "0               NaN                                                NaN  \n",
       "1               NaN                                                NaN  \n",
       "2            1926.0  https://www.airlines-inform.com/commercial-air...  \n",
       "3               NaN                                                NaN  \n",
       "4            2118.0                                        [5] & [5.1]  \n",
       "5               NaN                                                NaN  \n",
       "6               NaN                                                NaN  \n",
       "7               NaN                                                NaN  "
      ]
     },
     "execution_count": 23,
     "metadata": {},
     "output_type": "execute_result"
    }
   ],
   "source": [
    "df"
   ]
  },
  {
   "cell_type": "code",
   "execution_count": 24,
   "metadata": {},
   "outputs": [
    {
     "data": {
      "text/plain": [
       "<Axes: >"
      ]
     },
     "execution_count": 24,
     "metadata": {},
     "output_type": "execute_result"
    },
    {
     "data": {
      "image/png": "[encoded data removed]",
      "text/plain": [
       "<Figure size 640x480 with 1 Axes>"
      ]
     },
     "metadata": {},
     "output_type": "display_data"
    }
   ],
   "source": [
    "df.plot()"
   ]
  },
  {
   "cell_type": "markdown",
   "metadata": {},
   "source": [
    "# Indexing"
   ]
  },
  {
   "cell_type": "code",
   "execution_count": 15,
   "metadata": {},
   "outputs": [
    {
     "data": {
      "text/plain": [
       "Manufacturer                                              Boeing\n",
       "Aircraft name                                777-200LR (3-class)\n",
       "# Passengers                                               301.0\n",
       "Maximum payload [kg]                                     50850.0\n",
       "Range [km]                                                15,843\n",
       "Maximum take-off mass [kg]                              347800.0\n",
       "Empty mass (or Operating Empty Mass) [kg]               156030.0\n",
       "Wing Area [m2]                                             436.8\n",
       "Wing span [m]                                               64.8\n",
       "Aspect ratio                                            9.613187\n",
       "Swet/S                                                       5.8\n",
       "Swet                                                     2533.44\n",
       "OEM/MTOM                                                 0.44862\n",
       "Total Take-off thrust [kN]                                 978.0\n",
       "T_TO/W_TO [N/N]                                         2.811961\n",
       "Name: 1, dtype: object"
      ]
     },
     "execution_count": 15,
     "metadata": {},
     "output_type": "execute_result"
    }
   ],
   "source": [
    "df.iloc[1]"
   ]
  },
  {
   "cell_type": "code",
   "execution_count": 17,
   "metadata": {},
   "outputs": [
    {
     "data": {
      "text/plain": [
       "'15,843'"
      ]
     },
     "execution_count": 17,
     "metadata": {},
     "output_type": "execute_result"
    }
   ],
   "source": [
    "df.iloc[1][\"Range [km]\"]"
   ]
  },
  {
   "cell_type": "code",
   "execution_count": 9,
   "metadata": {},
   "outputs": [
    {
     "data": {
      "text/plain": [
       "7"
      ]
     },
     "execution_count": 9,
     "metadata": {},
     "output_type": "execute_result"
    }
   ],
   "source": [
    "2 + 5"
   ]
  },
  {
   "cell_type": "markdown",
   "metadata": {},
   "source": [
    "# Header!\n",
    "\n",
    "Markdown"
   ]
  },
  {
   "cell_type": "markdown",
   "metadata": {},
   "source": [
    "This is fancy code:"
   ]
  },
  {
   "cell_type": "code",
   "execution_count": 10,
   "metadata": {},
   "outputs": [],
   "source": [
    "i = 1"
   ]
  },
  {
   "cell_type": "code",
   "execution_count": null,
   "metadata": {},
   "outputs": [],
   "source": []
  }
 ],
 "metadata": {
  "kernelspec": {
   "display_name": "Python 3.10.4 64-bit",
   "language": "python",
   "name": "python3"
  },
  "language_info": {
   "codemirror_mode": {
    "name": "ipython",
    "version": 3
   },
   "file_extension": ".py",
   "mimetype": "text/x-python",
   "name": "python",
   "nbconvert_exporter": "python",
   "pygments_lexer": "ipython3",
   "version": "3.12.1"
  },
  "orig_nbformat": 4,
  "vscode": {
   "interpreter": {
    "hash": "3ad933181bd8a04b432d3370b9dc3b0662ad032c4dfaa4e4f1596c548f763858"
   }
  }
 },
 "nbformat": 4,
 "nbformat_minor": 2
}
